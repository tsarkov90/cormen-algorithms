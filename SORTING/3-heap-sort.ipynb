{
 "cells": [
  {
   "cell_type": "markdown",
   "metadata": {},
   "source": [
    "# Heap sort (сортировка кучей)"
   ]
  },
  {
   "cell_type": "code",
   "execution_count": 2,
   "metadata": {},
   "outputs": [],
   "source": [
    "import numpy as np"
   ]
  },
  {
   "cell_type": "code",
   "execution_count": 1,
   "metadata": {},
   "outputs": [],
   "source": [
    "def heapify(arr, heap_size, root_index):  \n",
    "    # Индекс наибольшего элемента считаем корневым индексом\n",
    "    largest = root_index\n",
    "    left_child = (2 * root_index) + 1\n",
    "    right_child = (2 * root_index) + 2\n",
    "\n",
    "    # Если левый потомок корня — допустимый индекс, а элемент больше,\n",
    "    # чем текущий наибольший, обновляем наибольший элемент\n",
    "    if left_child < heap_size and arr[left_child] > arr[largest]:\n",
    "        largest = left_child\n",
    "\n",
    "    # То же самое для правого потомка корня\n",
    "    if right_child < heap_size and arr[right_child] > arr[largest]:\n",
    "        largest = right_child\n",
    "\n",
    "    # Если наибольший элемент больше не корневой, они меняются местами\n",
    "    if largest != root_index:\n",
    "        arr[root_index], arr[largest] = arr[largest], arr[root_index]\n",
    "        # Heapify the new root element to ensure it's the largest\n",
    "        heapify(arr, heap_size, largest)"
   ]
  },
  {
   "cell_type": "code",
   "execution_count": 3,
   "metadata": {},
   "outputs": [],
   "source": [
    "def heap_sort(arr):  \n",
    "    n = len(arr)\n",
    "\n",
    "    # Создаём Max Heap из списка\n",
    "    # Второй аргумент означает остановку алгоритма перед элементом -1, т.е.\n",
    "    # перед первым элементом списка\n",
    "    # 3-й аргумент означает повторный проход по списку в обратном направлении, \n",
    "    # уменьшая счётчик i на 1 \n",
    "    for i in range(n, -1, -1):\n",
    "        heapify(arr, n, i)\n",
    "\n",
    "    # Перемещаем корень Max Heap в конец списка\n",
    "    for i in range(n - 1, 0, -1):\n",
    "        arr[i], arr[0] = arr[0], arr[i]\n",
    "        heapify(arr, i, 0)\n",
    "        \n",
    "    return arr"
   ]
  },
  {
   "cell_type": "code",
   "execution_count": 4,
   "metadata": {},
   "outputs": [
    {
     "data": {
      "text/plain": [
       "array([914, 142, 164, ..., -77, 600, 218])"
      ]
     },
     "execution_count": 4,
     "metadata": {},
     "output_type": "execute_result"
    }
   ],
   "source": [
    "A = np.random.randint(-1000, 1000, 15000)\n",
    "A"
   ]
  },
  {
   "cell_type": "code",
   "execution_count": 5,
   "metadata": {},
   "outputs": [
    {
     "name": "stdout",
     "output_type": "stream",
     "text": [
      "Wall time: 200 ms\n"
     ]
    },
    {
     "data": {
      "text/plain": [
       "15000"
      ]
     },
     "execution_count": 5,
     "metadata": {},
     "output_type": "execute_result"
    }
   ],
   "source": [
    "%%time\n",
    "(np.sort(A) == heap_sort(A)).sum()"
   ]
  },
  {
   "cell_type": "code",
   "execution_count": null,
   "metadata": {},
   "outputs": [],
   "source": []
  }
 ],
 "metadata": {
  "kernelspec": {
   "display_name": "Python 3",
   "language": "python",
   "name": "python3"
  },
  "language_info": {
   "codemirror_mode": {
    "name": "ipython",
    "version": 3
   },
   "file_extension": ".py",
   "mimetype": "text/x-python",
   "name": "python",
   "nbconvert_exporter": "python",
   "pygments_lexer": "ipython3",
   "version": "3.7.4"
  }
 },
 "nbformat": 4,
 "nbformat_minor": 2
}
