{
 "cells": [
  {
   "cell_type": "markdown",
   "metadata": {},
   "source": [
    "# Counting Sort (сортировка подсчётом)\n",
    "\n",
    "Применим, когда каждый из $n$ элементов сортируемой последовательности - целое положительное число в известном диапазоне\n",
    "\n",
    "Идея этого алгоритма в том, чтобы для каждого элемента $x$ предварительно подсчитать, сколько элементов входной последовательности меньше $x$, после чего записать $x$ напрямую в выходной массив в соответствии с этим числом (если, скажем, 17 элементов входного массива меньше $x$, то в выходном массиве $x$ должен быть записан на место номер 18).\n",
    "\n",
    "Если в сортируемой последовательности могут присутствовать равные числа, то алгоритм надо слегка модифицировать, чтобы не записывать равные числа на одного и то же место."
   ]
  },
  {
   "cell_type": "code",
   "execution_count": 7,
   "metadata": {},
   "outputs": [],
   "source": [
    "import numpy as np"
   ]
  },
  {
   "cell_type": "code",
   "execution_count": 8,
   "metadata": {},
   "outputs": [],
   "source": [
    "def counting_sort(arr):\n",
    "    k = max(arr)\n",
    "    count = [0] * (k + 1)\n",
    "    \n",
    "    for elem in arr:\n",
    "        count[elem] += 1\n",
    "        \n",
    "    sarr = []\n",
    "    for i, n in enumerate(count):\n",
    "        sarr.extend([i] * n)\n",
    "                   \n",
    "    return sarr"
   ]
  },
  {
   "cell_type": "code",
   "execution_count": 9,
   "metadata": {},
   "outputs": [
    {
     "data": {
      "text/plain": [
       "array([678, 766, 253, ...,  43, 492, 831])"
      ]
     },
     "execution_count": 9,
     "metadata": {},
     "output_type": "execute_result"
    }
   ],
   "source": [
    "A = np.random.randint(0, 1000, 15000)\n",
    "A"
   ]
  },
  {
   "cell_type": "code",
   "execution_count": 10,
   "metadata": {},
   "outputs": [
    {
     "name": "stdout",
     "output_type": "stream",
     "text": [
      "Wall time: 6.02 ms\n"
     ]
    },
    {
     "data": {
      "text/plain": [
       "15000"
      ]
     },
     "execution_count": 10,
     "metadata": {},
     "output_type": "execute_result"
    }
   ],
   "source": [
    "%%time\n",
    "(np.sort(A) == counting_sort(A)).sum()"
   ]
  },
  {
   "cell_type": "code",
   "execution_count": null,
   "metadata": {},
   "outputs": [],
   "source": []
  }
 ],
 "metadata": {
  "kernelspec": {
   "display_name": "Python 3",
   "language": "python",
   "name": "python3"
  },
  "language_info": {
   "codemirror_mode": {
    "name": "ipython",
    "version": 3
   },
   "file_extension": ".py",
   "mimetype": "text/x-python",
   "name": "python",
   "nbconvert_exporter": "python",
   "pygments_lexer": "ipython3",
   "version": "3.7.4"
  }
 },
 "nbformat": 4,
 "nbformat_minor": 2
}
