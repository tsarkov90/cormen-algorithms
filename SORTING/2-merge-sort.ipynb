{
 "cells": [
  {
   "cell_type": "markdown",
   "metadata": {},
   "source": [
    "# Merge Sort (сортировка слиянием)"
   ]
  },
  {
   "cell_type": "markdown",
   "metadata": {},
   "source": [
    "Алгоритм сортировки, который упорядочивает списки (или другие структуры данных, доступ к элементам которых можно получать только последовательно, например — потоки) в определённом порядке. Эта сортировка — хороший пример использования принципа *«разделяй и властвуй»*. Сначала задача разбивается на несколько подзадач меньшего размера. Затем эти задачи решаются с помощью рекурсивного вызова или непосредственно, если их размер достаточно мал. Наконец, их решения комбинируются, и получается решение исходной задачи."
   ]
  },
  {
   "cell_type": "code",
   "execution_count": 9,
   "metadata": {},
   "outputs": [],
   "source": [
    "import numpy as np"
   ]
  },
  {
   "cell_type": "code",
   "execution_count": 21,
   "metadata": {},
   "outputs": [],
   "source": [
    "def merge_sort(arr):\n",
    "    # Возвращаем список, если он состоит из одного элемента\n",
    "    if len(arr) < 2:\n",
    "        return arr\n",
    "    \n",
    "    # Для того чтобы найти середину списка, используем деление без остатка\n",
    "    # Индексы должны быть integer\n",
    "    middle = len(arr) // 2\n",
    "    \n",
    "    # Сортируем и объединяем подсписки\n",
    "    left = merge_sort(arr[:middle])\n",
    "    right = merge_sort(arr[middle:])\n",
    "    \n",
    "    # Объединяем отсортированные списки в результирующий\n",
    "    return merge(left, right)"
   ]
  },
  {
   "cell_type": "code",
   "execution_count": 22,
   "metadata": {},
   "outputs": [],
   "source": [
    "def merge(left, right):\n",
    "    res = []\n",
    "    i, j = 0, 0\n",
    "    \n",
    "    while i < len(left) and j < len(right):\n",
    "        # Сравниваем первые элементы в начале каждого списка\n",
    "        # Если первый элемент левого подсписка меньше, добавляем его\n",
    "        # в отсортированный массив\n",
    "        if left[i] <= right[j]:\n",
    "            res.append(left[i])\n",
    "            i += 1   \n",
    "        # Если первый элемент правого подсписка меньше, добавляем его\n",
    "        # в отсортированный массив\n",
    "        else:\n",
    "            res.append(right[j])\n",
    "            j += 1\n",
    "    # Если достигнут конец левого списка, элементы правого списка\n",
    "    # добавляем в конец результирующего списка        \n",
    "    while i < len(left):\n",
    "        res.append(left[i])\n",
    "        i += 1\n",
    "    # Если достигнут конец правого списка, элементы левого списка\n",
    "    # добавляем в отсортированный массив\n",
    "    while j < len(right):\n",
    "        res.append(right[j])\n",
    "        j += 1\n",
    "    \n",
    "    return res\n",
    "    "
   ]
  },
  {
   "cell_type": "code",
   "execution_count": 23,
   "metadata": {},
   "outputs": [
    {
     "data": {
      "text/plain": [
       "array([ -45,  948,  587, ...,  224, -247, -278])"
      ]
     },
     "execution_count": 23,
     "metadata": {},
     "output_type": "execute_result"
    }
   ],
   "source": [
    "A = np.random.randint(-1000, 1000, 15000)\n",
    "A"
   ]
  },
  {
   "cell_type": "code",
   "execution_count": 26,
   "metadata": {},
   "outputs": [
    {
     "data": {
      "text/plain": [
       "15000"
      ]
     },
     "execution_count": 26,
     "metadata": {},
     "output_type": "execute_result"
    }
   ],
   "source": [
    "(np.sort(A) == merge_sort(A)).sum()\n",
    " "
   ]
  },
  {
   "cell_type": "code",
   "execution_count": null,
   "metadata": {},
   "outputs": [],
   "source": []
  }
 ],
 "metadata": {
  "kernelspec": {
   "display_name": "Python 3",
   "language": "python",
   "name": "python3"
  },
  "language_info": {
   "codemirror_mode": {
    "name": "ipython",
    "version": 3
   },
   "file_extension": ".py",
   "mimetype": "text/x-python",
   "name": "python",
   "nbconvert_exporter": "python",
   "pygments_lexer": "ipython3",
   "version": "3.7.4"
  }
 },
 "nbformat": 4,
 "nbformat_minor": 2
}
